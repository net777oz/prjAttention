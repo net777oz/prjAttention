{
 "cells": [
  {
   "cell_type": "code",
   "execution_count": 2,
   "id": "6b13f07b",
   "metadata": {},
   "outputs": [
    {
     "name": "stdout",
     "output_type": "stream",
     "text": [
      "Enter password: ········\n",
      "Verify password: ········\n",
      "완료! 설정 저장 위치: /home/prisoner/.jupyter\n",
      "적용하려면 Jupyter 서버를 재시작하세요.\n"
     ]
    }
   ],
   "source": [
    "# 1) 새 비밀번호를 입력해 해시 생성\n",
    "from notebook.auth import passwd\n",
    "new_hash = passwd()  # 프롬프트가 뜨면 새 비밀번호 입력 → 재입력 확인\n",
    "\n",
    "# 2) 설정 파일 업데이트 (classic Notebook & Jupyter Server 모두 대비)\n",
    "import os, json, getpass, pathlib\n",
    "\n",
    "cfg_dir = os.path.join(os.path.expanduser(\"~\"), \".jupyter\")\n",
    "os.makedirs(cfg_dir, exist_ok=True)\n",
    "\n",
    "targets = [\n",
    "    (\"jupyter_notebook_config.json\", \"NotebookApp\"),  # classic notebook\n",
    "    (\"jupyter_server_config.json\",  \"ServerApp\"),     # JupyterLab/Jupyter Server\n",
    "]\n",
    "\n",
    "for fname, section in targets:\n",
    "    path = os.path.join(cfg_dir, fname)\n",
    "    try:\n",
    "        cfg = json.load(open(path, \"r\", encoding=\"utf-8\"))\n",
    "    except Exception:\n",
    "        cfg = {}\n",
    "    cfg.setdefault(section, {})\n",
    "    cfg[section][\"password\"] = new_hash\n",
    "    # (선택) 토큰 로그인 비활성화: 아래 줄을 주석 해제하면 토큰 없이 비밀번호만 요구\n",
    "    cfg[section][\"token\"] = \"\"\n",
    "    json.dump(cfg, open(path, \"w\", encoding=\"utf-8\"), indent=2, ensure_ascii=False)\n",
    "\n",
    "print(\"완료! 설정 저장 위치:\", cfg_dir)\n",
    "print(\"적용하려면 Jupyter 서버를 재시작하세요.\")"
   ]
  },
  {
   "cell_type": "code",
   "execution_count": null,
   "id": "4dee4098",
   "metadata": {},
   "outputs": [],
   "source": []
  }
 ],
 "metadata": {
  "kernelspec": {
   "display_name": "Python (nb-venv)",
   "language": "python",
   "name": "nb-venv"
  },
  "language_info": {
   "codemirror_mode": {
    "name": "ipython",
    "version": 3
   },
   "file_extension": ".py",
   "mimetype": "text/x-python",
   "name": "python",
   "nbconvert_exporter": "python",
   "pygments_lexer": "ipython3",
   "version": "3.12.3"
  }
 },
 "nbformat": 4,
 "nbformat_minor": 5
}
